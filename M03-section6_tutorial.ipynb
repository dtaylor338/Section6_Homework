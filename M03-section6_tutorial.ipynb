{
 "cells": [
  {
   "cell_type": "code",
   "execution_count": 1,
   "id": "5a437904",
   "metadata": {},
   "outputs": [],
   "source": [
    "def vol(rad):\n",
    "    return (4/3)*3.14*(rad**3)"
   ]
  },
  {
   "cell_type": "code",
   "execution_count": 2,
   "id": "a41dfe1e",
   "metadata": {},
   "outputs": [
    {
     "data": {
      "text/plain": [
       "33.49333333333333"
      ]
     },
     "execution_count": 2,
     "metadata": {},
     "output_type": "execute_result"
    }
   ],
   "source": [
    "vol(2)"
   ]
  },
  {
   "cell_type": "code",
   "execution_count": null,
   "id": "dbba5451",
   "metadata": {},
   "outputs": [],
   "source": []
  },
  {
   "cell_type": "code",
   "execution_count": null,
   "id": "b7264940",
   "metadata": {},
   "outputs": [],
   "source": []
  },
  {
   "cell_type": "code",
   "execution_count": 12,
   "id": "770d1d26",
   "metadata": {},
   "outputs": [],
   "source": [
    "def ran_check(num,low,high):\n",
    "    if num in range(low,high+1):\n",
    "        print(f'{num} is in range of {low} and {high}')\n",
    "    else:\n",
    "        print('not in range')"
   ]
  },
  {
   "cell_type": "code",
   "execution_count": 13,
   "id": "4a28ea2f",
   "metadata": {},
   "outputs": [
    {
     "name": "stdout",
     "output_type": "stream",
     "text": [
      "5 is in range of 2 and 7\n"
     ]
    }
   ],
   "source": [
    "ran_check(5,2,7)"
   ]
  },
  {
   "cell_type": "code",
   "execution_count": null,
   "id": "962ea4f1",
   "metadata": {},
   "outputs": [],
   "source": []
  },
  {
   "cell_type": "code",
   "execution_count": 16,
   "id": "aa9cf1f9",
   "metadata": {},
   "outputs": [],
   "source": [
    "def ran_bool(num,low,high):\n",
    "    return num in range(low,high+1)"
   ]
  },
  {
   "cell_type": "code",
   "execution_count": 17,
   "id": "3d146470",
   "metadata": {},
   "outputs": [
    {
     "data": {
      "text/plain": [
       "True"
      ]
     },
     "execution_count": 17,
     "metadata": {},
     "output_type": "execute_result"
    }
   ],
   "source": [
    "ran_bool(3,1,10)"
   ]
  },
  {
   "cell_type": "code",
   "execution_count": null,
   "id": "9a5c9d52",
   "metadata": {},
   "outputs": [],
   "source": []
  },
  {
   "cell_type": "code",
   "execution_count": 19,
   "id": "b558327f",
   "metadata": {},
   "outputs": [],
   "source": [
    "def up_low(s):\n",
    "    lowercase=0\n",
    "    uppercase=0\n",
    "    \n",
    "    for char in s:\n",
    "        if char.isupper():\n",
    "            uppercase+=1\n",
    "        elif char.islower():\n",
    "            lowercase +=1\n",
    "        else:\n",
    "            pass\n",
    "        \n",
    "    print(f'original string: {s}')\n",
    "    print(f'lowercase count: {lowercase}')\n",
    "    print(f'uppercase count: {uppercase}')"
   ]
  },
  {
   "cell_type": "code",
   "execution_count": 20,
   "id": "0b19cde2",
   "metadata": {},
   "outputs": [
    {
     "name": "stdout",
     "output_type": "stream",
     "text": [
      "original string: Hello Mr. Rogers, how are you this fine Tuesday?\n",
      "lowercase count: 33\n",
      "uppercase count: 4\n"
     ]
    }
   ],
   "source": [
    "s= \"Hello Mr. Rogers, how are you this fine Tuesday?\"\n",
    "up_low(s)"
   ]
  },
  {
   "cell_type": "code",
   "execution_count": null,
   "id": "97fe0ef6",
   "metadata": {},
   "outputs": [],
   "source": []
  },
  {
   "cell_type": "code",
   "execution_count": 22,
   "id": "49208768",
   "metadata": {},
   "outputs": [],
   "source": [
    "def unique_list(lst):\n",
    "    return list(set(lst))"
   ]
  },
  {
   "cell_type": "code",
   "execution_count": 23,
   "id": "7c7604c7",
   "metadata": {},
   "outputs": [
    {
     "data": {
      "text/plain": [
       "[1, 2, 3, 4, 5]"
      ]
     },
     "execution_count": 23,
     "metadata": {},
     "output_type": "execute_result"
    }
   ],
   "source": [
    "unique_list([1,1,1,1,2,2,3,3,3,3,4,5])"
   ]
  },
  {
   "cell_type": "code",
   "execution_count": null,
   "id": "5f7c1354",
   "metadata": {},
   "outputs": [],
   "source": []
  },
  {
   "cell_type": "code",
   "execution_count": 26,
   "id": "757ef161",
   "metadata": {},
   "outputs": [],
   "source": [
    "def multiply(numbers):\n",
    "    total=1\n",
    "    for num in numbers:\n",
    "        total=total * num\n",
    "    return total"
   ]
  },
  {
   "cell_type": "code",
   "execution_count": 27,
   "id": "918a6207",
   "metadata": {},
   "outputs": [
    {
     "data": {
      "text/plain": [
       "-24"
      ]
     },
     "execution_count": 27,
     "metadata": {},
     "output_type": "execute_result"
    }
   ],
   "source": [
    "multiply([1,2,3,-4])"
   ]
  },
  {
   "cell_type": "code",
   "execution_count": null,
   "id": "730722ef",
   "metadata": {},
   "outputs": [],
   "source": []
  },
  {
   "cell_type": "code",
   "execution_count": 32,
   "id": "da64adfe",
   "metadata": {},
   "outputs": [],
   "source": [
    "def palindrome(s):\n",
    "    s= s.replace(\" \", \"\")\n",
    "    \n",
    "    return s==s[::-1]"
   ]
  },
  {
   "cell_type": "code",
   "execution_count": 33,
   "id": "f72b05a5",
   "metadata": {},
   "outputs": [
    {
     "data": {
      "text/plain": [
       "True"
      ]
     },
     "execution_count": 33,
     "metadata": {},
     "output_type": "execute_result"
    }
   ],
   "source": [
    "palindrome(\"nurses run\")"
   ]
  },
  {
   "cell_type": "code",
   "execution_count": null,
   "id": "425eaefe",
   "metadata": {},
   "outputs": [],
   "source": []
  },
  {
   "cell_type": "code",
   "execution_count": 34,
   "id": "99fd9888",
   "metadata": {},
   "outputs": [
    {
     "ename": "AttributeError",
     "evalue": "module 'string' has no attribute 'acsii_lowercase'",
     "output_type": "error",
     "traceback": [
      "\u001b[0;31m---------------------------------------------------------------------------\u001b[0m",
      "\u001b[0;31mAttributeError\u001b[0m                            Traceback (most recent call last)",
      "Cell \u001b[0;32mIn [34], line 3\u001b[0m\n\u001b[1;32m      1\u001b[0m \u001b[38;5;28;01mimport\u001b[39;00m \u001b[38;5;21;01mstring\u001b[39;00m\n\u001b[0;32m----> 3\u001b[0m \u001b[38;5;28;01mdef\u001b[39;00m \u001b[38;5;21mispangram\u001b[39m(str1, alphabet\u001b[38;5;241m=\u001b[39m\u001b[43mstring\u001b[49m\u001b[38;5;241;43m.\u001b[39;49m\u001b[43macsii_lowercase\u001b[49m):\n\u001b[1;32m      4\u001b[0m     alphaset\u001b[38;5;241m=\u001b[39m\u001b[38;5;28mset\u001b[39m(alphabet)\n\u001b[1;32m      5\u001b[0m     str1\u001b[38;5;241m=\u001b[39mstr1\u001b[38;5;241m.\u001b[39mreplace(\u001b[38;5;124m\"\u001b[39m\u001b[38;5;124m \u001b[39m\u001b[38;5;124m\"\u001b[39m,\u001b[38;5;124m\"\u001b[39m\u001b[38;5;124m\"\u001b[39m)\n",
      "\u001b[0;31mAttributeError\u001b[0m: module 'string' has no attribute 'acsii_lowercase'"
     ]
    }
   ],
   "source": [
    "import string\n",
    "\n",
    "def ispangram(str1, alphabet=string.acsii_lowercase):\n",
    "    alphaset=set(alphabet)\n",
    "    str1=str1.replace(\" \",\"\")\n",
    "    str1=str1.lower()\n",
    "    str1=set(str1)\n",
    "    return str1 == alphaset"
   ]
  },
  {
   "cell_type": "code",
   "execution_count": 35,
   "id": "663c8a9f",
   "metadata": {},
   "outputs": [
    {
     "ename": "NameError",
     "evalue": "name 'ispangram' is not defined",
     "output_type": "error",
     "traceback": [
      "\u001b[0;31m---------------------------------------------------------------------------\u001b[0m",
      "\u001b[0;31mNameError\u001b[0m                                 Traceback (most recent call last)",
      "Cell \u001b[0;32mIn [35], line 1\u001b[0m\n\u001b[0;32m----> 1\u001b[0m \u001b[43mispangram\u001b[49m(\u001b[38;5;124m\"\u001b[39m\u001b[38;5;124mthe quick brown fox jumps over the lazy dog\u001b[39m\u001b[38;5;124m\"\u001b[39m)\n",
      "\u001b[0;31mNameError\u001b[0m: name 'ispangram' is not defined"
     ]
    }
   ],
   "source": [
    "ispangram(\"the quick brown fox jumps over the lazy dog\")"
   ]
  },
  {
   "cell_type": "code",
   "execution_count": null,
   "id": "bf607bf7",
   "metadata": {},
   "outputs": [],
   "source": []
  }
 ],
 "metadata": {
  "kernelspec": {
   "display_name": "Python 3 (ipykernel)",
   "language": "python",
   "name": "python3"
  },
  "language_info": {
   "codemirror_mode": {
    "name": "ipython",
    "version": 3
   },
   "file_extension": ".py",
   "mimetype": "text/x-python",
   "name": "python",
   "nbconvert_exporter": "python",
   "pygments_lexer": "ipython3",
   "version": "3.11.0"
  }
 },
 "nbformat": 4,
 "nbformat_minor": 5
}
